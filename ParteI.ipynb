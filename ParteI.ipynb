{
 "cells": [
  {
   "cell_type": "code",
   "execution_count": 1,
   "metadata": {},
   "outputs": [
    {
     "data": {
      "text/plain": [
       "array([[  2,   3,  48,  59,  89,  79,  71,  80,  19,  22],\n",
       "       [ 74,  20,  16,  13,  74,  88,  61,  28,  11,  79],\n",
       "       [ 86,  91,  91,  80,  43,   6,  83,  59, 100,  98],\n",
       "       [ 38,  37,  47,  48,  15,  17,  21,   6,  32,  88],\n",
       "       [ 14,  18,  54,  39,  47,  48,  33,  59,  63,  49],\n",
       "       [ 98,  19,  59,  99,  26,  42,  77,  62,  25,  11],\n",
       "       [ 42,  25,  16,  66,   6,  76,  84,  20,  11,  95],\n",
       "       [  9,  27,  63,  24,  15,  73,  44,  22,  47,  85],\n",
       "       [ 58,  37,  94,  24,  99,  70,  39,  46,  29, 100],\n",
       "       [ 98,  92,  91,  24,  70,  91,  78,  73,  73,  37]])"
      ]
     },
     "execution_count": 1,
     "metadata": {},
     "output_type": "execute_result"
    }
   ],
   "source": [
    "import numpy as np\n",
    "import statistics as stats\n",
    "\n",
    "np.random.seed(2131982)\n",
    "data = np.random.randint(1,101,(10,10))\n",
    "data"
   ]
  },
  {
   "cell_type": "code",
   "execution_count": 2,
   "metadata": {},
   "outputs": [
    {
     "data": {
      "text/plain": [
       "51.37"
      ]
     },
     "execution_count": 2,
     "metadata": {},
     "output_type": "execute_result"
    }
   ],
   "source": [
    "data.mean()"
   ]
  },
  {
   "cell_type": "code",
   "execution_count": 3,
   "metadata": {},
   "outputs": [
    {
     "data": {
      "text/plain": [
       "48.0"
      ]
     },
     "execution_count": 3,
     "metadata": {},
     "output_type": "execute_result"
    }
   ],
   "source": [
    "np.median(data)"
   ]
  },
  {
   "cell_type": "code",
   "execution_count": 4,
   "metadata": {},
   "outputs": [
    {
     "data": {
      "text/plain": [
       "29.729330634913392"
      ]
     },
     "execution_count": 4,
     "metadata": {},
     "output_type": "execute_result"
    }
   ],
   "source": [
    "data.std()"
   ]
  },
  {
   "cell_type": "code",
   "execution_count": 5,
   "metadata": {},
   "outputs": [
    {
     "data": {
      "text/plain": [
       "883.8331"
      ]
     },
     "execution_count": 5,
     "metadata": {},
     "output_type": "execute_result"
    }
   ],
   "source": [
    "data.var()"
   ]
  },
  {
   "cell_type": "code",
   "execution_count": 6,
   "metadata": {},
   "outputs": [
    {
     "name": "stdout",
     "output_type": "stream",
     "text": [
      "Media Aritmetica Fila 1 47.2\n",
      "Media Aritmetica Fila 2 46.4\n",
      "Media Aritmetica Fila 3 73.7\n",
      "Media Aritmetica Fila 4 34.9\n",
      "Media Aritmetica Fila 5 42.4\n",
      "Media Aritmetica Fila 6 51.8\n",
      "Media Aritmetica Fila 7 44.1\n",
      "Media Aritmetica Fila 8 40.9\n",
      "Media Aritmetica Fila 9 59.6\n",
      "Media Aritmetica Fila 10 72.7\n"
     ]
    }
   ],
   "source": [
    "for i in range(10):\n",
    "    print(\"Media Aritmetica Fila \"+ str(i+1) +\" \"+ str(np.mean(data[i:i+1])))\n",
    "    "
   ]
  },
  {
   "cell_type": "code",
   "execution_count": 7,
   "metadata": {},
   "outputs": [
    {
     "name": "stdout",
     "output_type": "stream",
     "text": [
      "Media Aritmetica Columna 1 51.9\n",
      "Media Aritmetica Columna 2 36.9\n",
      "Media Aritmetica Columna 3 57.9\n",
      "Media Aritmetica Columna 4 47.6\n",
      "Media Aritmetica Columna 5 48.4\n",
      "Media Aritmetica Columna 6 59.0\n",
      "Media Aritmetica Columna 7 59.1\n",
      "Media Aritmetica Columna 8 45.5\n",
      "Media Aritmetica Columna 9 41.0\n",
      "Media Aritmetica Columna 10 66.4\n"
     ]
    }
   ],
   "source": [
    "for i in range(10):\n",
    "    print(\"Media Aritmetica Columna \"+ str(i+1) +\" \"+ str(np.mean(data[:,i])))"
   ]
  },
  {
   "cell_type": "code",
   "execution_count": 8,
   "metadata": {},
   "outputs": [
    {
     "name": "stdout",
     "output_type": "stream",
     "text": [
      "Desviación típica Fila 1 31.571506140822613\n",
      "Desviación típica Fila 2 29.763064358362026\n",
      "Desviación típica Fila 3 28.107116536564185\n",
      "Desviación típica Fila 4 22.147008827378922\n",
      "Desviación típica Fila 5 15.596153371905523\n",
      "Desviación típica Fila 6 30.616335509005648\n",
      "Desviación típica Fila 7 31.57039752679716\n",
      "Desviación típica Fila 8 24.566033460858105\n",
      "Desviación típica Fila 9 27.932776446318403\n",
      "Desviación típica Fila 10 23.160526764303096\n"
     ]
    }
   ],
   "source": [
    "for i in range(10):\n",
    "    print(\"Desviación típica Fila \"+ str(i+1) +\" \"+ str(np.std(data[i:i+1])))"
   ]
  },
  {
   "cell_type": "code",
   "execution_count": 9,
   "metadata": {},
   "outputs": [
    {
     "name": "stdout",
     "output_type": "stream",
     "text": [
      "Desviación típica Columna 1 34.63654139777815\n",
      "Desviación típica Columna 2 28.8355683141498\n",
      "Desviación típica Columna 3 26.953478439711635\n",
      "Desviación típica Columna 4 26.650328328183875\n",
      "Desviación típica Columna 5 31.45218593357225\n",
      "Desviación típica Columna 6 28.02498884923953\n",
      "Desviación típica Columna 7 21.860695322884858\n",
      "Desviación típica Columna 8 23.77498685593748\n",
      "Desviación típica Columna 9 27.910571473905726\n",
      "Desviación típica Columna 10 31.8188623303851\n"
     ]
    }
   ],
   "source": [
    "for i in range(10):\n",
    "    print(\"Desviación típica Columna \"+ str(i+1) +\" \"+ str(np.std(data[:,i])))"
   ]
  },
  {
   "cell_type": "code",
   "execution_count": 10,
   "metadata": {},
   "outputs": [
    {
     "name": "stdout",
     "output_type": "stream",
     "text": [
      "Varianza Fila 1 996.76\n",
      "Varianza Fila 2 885.8399999999999\n",
      "Varianza Fila 3 790.0099999999999\n",
      "Varianza Fila 4 490.48999999999995\n",
      "Varianza Fila 5 243.24\n",
      "Varianza Fila 6 937.36\n",
      "Varianza Fila 7 996.6900000000002\n",
      "Varianza Fila 8 603.49\n",
      "Varianza Fila 9 780.2400000000001\n",
      "Varianza Fila 10 536.4100000000001\n"
     ]
    }
   ],
   "source": [
    "for i in range(10):\n",
    "    print(\"Varianza Fila \"+ str(i+1) +\" \"+ str(np.var(data[i:i+1])))"
   ]
  },
  {
   "cell_type": "code",
   "execution_count": 11,
   "metadata": {},
   "outputs": [
    {
     "name": "stdout",
     "output_type": "stream",
     "text": [
      "Varianza Columna 1 1199.6899999999998\n",
      "Varianza Columna 2 831.49\n",
      "Varianza Columna 3 726.49\n",
      "Varianza Columna 4 710.24\n",
      "Varianza Columna 5 989.24\n",
      "Varianza Columna 6 785.4\n",
      "Varianza Columna 7 477.89\n",
      "Varianza Columna 8 565.25\n",
      "Varianza Columna 9 779.0\n",
      "Varianza Columna 10 1012.4399999999999\n"
     ]
    }
   ],
   "source": [
    "for i in range(10):\n",
    "    print(\"Varianza Columna \"+ str(i+1) +\" \"+ str(np.var(data[:,i])))"
   ]
  },
  {
   "cell_type": "code",
   "execution_count": 21,
   "metadata": {},
   "outputs": [
    {
     "data": {
      "text/html": [
       "<div>\n",
       "<style scoped>\n",
       "    .dataframe tbody tr th:only-of-type {\n",
       "        vertical-align: middle;\n",
       "    }\n",
       "\n",
       "    .dataframe tbody tr th {\n",
       "        vertical-align: top;\n",
       "    }\n",
       "\n",
       "    .dataframe thead th {\n",
       "        text-align: right;\n",
       "    }\n",
       "</style>\n",
       "<table border=\"1\" class=\"dataframe\">\n",
       "  <thead>\n",
       "    <tr style=\"text-align: right;\">\n",
       "      <th></th>\n",
       "      <th>0</th>\n",
       "      <th>1</th>\n",
       "      <th>2</th>\n",
       "      <th>3</th>\n",
       "      <th>4</th>\n",
       "      <th>5</th>\n",
       "      <th>6</th>\n",
       "      <th>7</th>\n",
       "      <th>8</th>\n",
       "      <th>9</th>\n",
       "    </tr>\n",
       "  </thead>\n",
       "  <tbody>\n",
       "    <tr>\n",
       "      <th>count</th>\n",
       "      <td>10.00000</td>\n",
       "      <td>10.000000</td>\n",
       "      <td>10.000000</td>\n",
       "      <td>10.000000</td>\n",
       "      <td>10.000000</td>\n",
       "      <td>10.000000</td>\n",
       "      <td>10.000000</td>\n",
       "      <td>10.000000</td>\n",
       "      <td>10.000000</td>\n",
       "      <td>10.000000</td>\n",
       "    </tr>\n",
       "    <tr>\n",
       "      <th>mean</th>\n",
       "      <td>51.90000</td>\n",
       "      <td>36.900000</td>\n",
       "      <td>57.900000</td>\n",
       "      <td>47.600000</td>\n",
       "      <td>48.400000</td>\n",
       "      <td>59.000000</td>\n",
       "      <td>59.100000</td>\n",
       "      <td>45.500000</td>\n",
       "      <td>41.000000</td>\n",
       "      <td>66.400000</td>\n",
       "    </tr>\n",
       "    <tr>\n",
       "      <th>std</th>\n",
       "      <td>36.51012</td>\n",
       "      <td>30.395358</td>\n",
       "      <td>28.411461</td>\n",
       "      <td>28.091913</td>\n",
       "      <td>33.153515</td>\n",
       "      <td>29.540932</td>\n",
       "      <td>23.043196</td>\n",
       "      <td>25.061037</td>\n",
       "      <td>29.420326</td>\n",
       "      <td>33.540026</td>\n",
       "    </tr>\n",
       "    <tr>\n",
       "      <th>min</th>\n",
       "      <td>2.00000</td>\n",
       "      <td>3.000000</td>\n",
       "      <td>16.000000</td>\n",
       "      <td>13.000000</td>\n",
       "      <td>6.000000</td>\n",
       "      <td>6.000000</td>\n",
       "      <td>21.000000</td>\n",
       "      <td>6.000000</td>\n",
       "      <td>11.000000</td>\n",
       "      <td>11.000000</td>\n",
       "    </tr>\n",
       "    <tr>\n",
       "      <th>25%</th>\n",
       "      <td>20.00000</td>\n",
       "      <td>19.250000</td>\n",
       "      <td>47.250000</td>\n",
       "      <td>24.000000</td>\n",
       "      <td>17.750000</td>\n",
       "      <td>43.500000</td>\n",
       "      <td>40.250000</td>\n",
       "      <td>23.500000</td>\n",
       "      <td>20.500000</td>\n",
       "      <td>40.000000</td>\n",
       "    </tr>\n",
       "    <tr>\n",
       "      <th>50%</th>\n",
       "      <td>50.00000</td>\n",
       "      <td>26.000000</td>\n",
       "      <td>56.500000</td>\n",
       "      <td>43.500000</td>\n",
       "      <td>45.000000</td>\n",
       "      <td>71.500000</td>\n",
       "      <td>66.000000</td>\n",
       "      <td>52.500000</td>\n",
       "      <td>30.500000</td>\n",
       "      <td>82.000000</td>\n",
       "    </tr>\n",
       "    <tr>\n",
       "      <th>75%</th>\n",
       "      <td>83.00000</td>\n",
       "      <td>37.000000</td>\n",
       "      <td>84.000000</td>\n",
       "      <td>64.250000</td>\n",
       "      <td>73.000000</td>\n",
       "      <td>78.250000</td>\n",
       "      <td>77.750000</td>\n",
       "      <td>61.250000</td>\n",
       "      <td>59.000000</td>\n",
       "      <td>93.250000</td>\n",
       "    </tr>\n",
       "    <tr>\n",
       "      <th>max</th>\n",
       "      <td>98.00000</td>\n",
       "      <td>92.000000</td>\n",
       "      <td>94.000000</td>\n",
       "      <td>99.000000</td>\n",
       "      <td>99.000000</td>\n",
       "      <td>91.000000</td>\n",
       "      <td>84.000000</td>\n",
       "      <td>80.000000</td>\n",
       "      <td>100.000000</td>\n",
       "      <td>100.000000</td>\n",
       "    </tr>\n",
       "  </tbody>\n",
       "</table>\n",
       "</div>"
      ],
      "text/plain": [
       "              0          1          2          3          4          5  \\\n",
       "count  10.00000  10.000000  10.000000  10.000000  10.000000  10.000000   \n",
       "mean   51.90000  36.900000  57.900000  47.600000  48.400000  59.000000   \n",
       "std    36.51012  30.395358  28.411461  28.091913  33.153515  29.540932   \n",
       "min     2.00000   3.000000  16.000000  13.000000   6.000000   6.000000   \n",
       "25%    20.00000  19.250000  47.250000  24.000000  17.750000  43.500000   \n",
       "50%    50.00000  26.000000  56.500000  43.500000  45.000000  71.500000   \n",
       "75%    83.00000  37.000000  84.000000  64.250000  73.000000  78.250000   \n",
       "max    98.00000  92.000000  94.000000  99.000000  99.000000  91.000000   \n",
       "\n",
       "               6          7           8           9  \n",
       "count  10.000000  10.000000   10.000000   10.000000  \n",
       "mean   59.100000  45.500000   41.000000   66.400000  \n",
       "std    23.043196  25.061037   29.420326   33.540026  \n",
       "min    21.000000   6.000000   11.000000   11.000000  \n",
       "25%    40.250000  23.500000   20.500000   40.000000  \n",
       "50%    66.000000  52.500000   30.500000   82.000000  \n",
       "75%    77.750000  61.250000   59.000000   93.250000  \n",
       "max    84.000000  80.000000  100.000000  100.000000  "
      ]
     },
     "execution_count": 21,
     "metadata": {},
     "output_type": "execute_result"
    }
   ],
   "source": [
    "import pandas as pd\n",
    "\n",
    "dataframe = pd.DataFrame(data)\n",
    "resume = dataframe.describe()\n",
    "resume"
   ]
  },
  {
   "cell_type": "markdown",
   "metadata": {},
   "source": [
    "Los datos no son coherentes en la desviación estandar pero en la media si lo son."
   ]
  }
 ],
 "metadata": {
  "kernelspec": {
   "display_name": "Python 3",
   "language": "python",
   "name": "python3"
  },
  "language_info": {
   "codemirror_mode": {
    "name": "ipython",
    "version": 3
   },
   "file_extension": ".py",
   "mimetype": "text/x-python",
   "name": "python",
   "nbconvert_exporter": "python",
   "pygments_lexer": "ipython3",
   "version": "3.8.5"
  }
 },
 "nbformat": 4,
 "nbformat_minor": 4
}
